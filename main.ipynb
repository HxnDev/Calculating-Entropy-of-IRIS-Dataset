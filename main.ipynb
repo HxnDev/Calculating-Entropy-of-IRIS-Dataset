{
 "cells": [
  {
   "cell_type": "code",
   "execution_count": 3,
   "metadata": {},
   "outputs": [],
   "source": [
    "import numpy as np\n",
    "import pandas as pd\n",
    "from sklearn import datasets"
   ]
  },
  {
   "cell_type": "code",
   "execution_count": 4,
   "metadata": {},
   "outputs": [
    {
     "name": "stdout",
     "output_type": "stream",
     "text": [
      "     Petal Length  Petal Width  Sepal Length  Sepal Width         Species\n",
      "0             5.1          3.5           1.4          0.2     Iris-setosa\n",
      "1             4.9          3.0           1.4          0.2     Iris-setosa\n",
      "2             4.7          3.2           1.3          0.2     Iris-setosa\n",
      "3             4.6          3.1           1.5          0.2     Iris-setosa\n",
      "4             5.0          3.6           1.4          0.2     Iris-setosa\n",
      "..            ...          ...           ...          ...             ...\n",
      "145           6.7          3.0           5.2          2.3  Iris-virginica\n",
      "146           6.3          2.5           5.0          1.9  Iris-virginica\n",
      "147           6.5          3.0           5.2          2.0  Iris-virginica\n",
      "148           6.2          3.4           5.4          2.3  Iris-virginica\n",
      "149           5.9          3.0           5.1          1.8  Iris-virginica\n",
      "\n",
      "[150 rows x 5 columns]\n"
     ]
    }
   ],
   "source": [
    "# loading the iris data\n",
    "data = pd.read_csv(\"iris.data\", header=None)  #Reading the data\n",
    "dframe = pd.DataFrame(data)\n",
    "dframe.columns=['Petal Length', 'Petal Width', 'Sepal Length', 'Sepal Width', 'Species']\n",
    "print(dframe)"
   ]
  },
  {
   "cell_type": "code",
   "execution_count": 5,
   "metadata": {},
   "outputs": [
    {
     "data": {
      "text/plain": [
       "Petal Length    0\n",
       "Petal Width     0\n",
       "Sepal Length    0\n",
       "Sepal Width     0\n",
       "Species         0\n",
       "dtype: int64"
      ]
     },
     "execution_count": 5,
     "metadata": {},
     "output_type": "execute_result"
    }
   ],
   "source": [
    "# Replacing none values with the avg values\n",
    "\n",
    "number = dframe.select_dtypes(include=np.number)\n",
    "column = number.columns\n",
    "dframe[column] = dframe[column].fillna(dframe.mean())\n",
    "dframe.isna().sum()"
   ]
  },
  {
   "cell_type": "code",
   "execution_count": 6,
   "metadata": {},
   "outputs": [
    {
     "name": "stdout",
     "output_type": "stream",
     "text": [
      "     Petal Length  Petal Width  Sepal Length  Sepal Width         Species\n",
      "0        0.222222     0.625000      0.067797     0.041667     Iris-setosa\n",
      "1        0.166667     0.416667      0.067797     0.041667     Iris-setosa\n",
      "2        0.111111     0.500000      0.050847     0.041667     Iris-setosa\n",
      "3        0.083333     0.458333      0.084746     0.041667     Iris-setosa\n",
      "4        0.194444     0.666667      0.067797     0.041667     Iris-setosa\n",
      "..            ...          ...           ...          ...             ...\n",
      "145      0.666667     0.416667      0.711864     0.916667  Iris-virginica\n",
      "146      0.555556     0.208333      0.677966     0.750000  Iris-virginica\n",
      "147      0.611111     0.416667      0.711864     0.791667  Iris-virginica\n",
      "148      0.527778     0.583333      0.745763     0.916667  Iris-virginica\n",
      "149      0.444444     0.416667      0.694915     0.708333  Iris-virginica\n",
      "\n",
      "[150 rows x 5 columns]\n"
     ]
    }
   ],
   "source": [
    "# Now we will normalize the values\n",
    "\n",
    "result = dframe.copy()\n",
    "columns=['Petal Length', 'Petal Width', 'Sepal Length', 'Sepal Width', 'Species']\n",
    "for i in range(4):\n",
    "    max_value = dframe[columns[i]].max()\n",
    "    min_value = dframe[columns[i]].min()\n",
    "    result[columns[i]] = (dframe[columns[i]]-min_value)/(max_value-min_value)\n",
    "print(result)"
   ]
  },
  {
   "cell_type": "code",
   "execution_count": 11,
   "metadata": {},
   "outputs": [
    {
     "name": "stdout",
     "output_type": "stream",
     "text": [
      "Entropy for  Petal Length  is :  0.2093174855631178\n",
      "Entropy for  Petal Width  is :  0.19405340804304022\n",
      "Entropy for  Sepal Length  is :  0.213553711369539\n",
      "Entropy for  Sepal Width  is :  0.19419038247148243\n"
     ]
    }
   ],
   "source": [
    "#Entropy\n",
    "\n",
    "# Testing only\n",
    "#prob = dframe['Species'].value_counts()\n",
    "#print (prob)\n",
    "\n",
    "for i in range(4):\n",
    "    prob = dframe[columns[i]].value_counts(normalize = True)/50\n",
    "    #print(prob)     #For checking only\n",
    "    entropy = -1* np.sum(np.log2(prob)*prob)\n",
    "    print(\"Entropy for \", columns[i],\" is : \", entropy)\n"
   ]
  },
  {
   "cell_type": "code",
   "execution_count": null,
   "metadata": {},
   "outputs": [],
   "source": []
  }
 ],
 "metadata": {
  "kernelspec": {
   "display_name": "Python 3",
   "language": "python",
   "name": "python3"
  },
  "language_info": {
   "codemirror_mode": {
    "name": "ipython",
    "version": 3
   },
   "file_extension": ".py",
   "mimetype": "text/x-python",
   "name": "python",
   "nbconvert_exporter": "python",
   "pygments_lexer": "ipython3",
   "version": "3.8.8"
  }
 },
 "nbformat": 4,
 "nbformat_minor": 4
}
